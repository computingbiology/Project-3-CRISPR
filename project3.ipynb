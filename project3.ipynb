{
 "cells": [
  {
   "cell_type": "markdown",
   "metadata": {},
   "source": [
    "# Project 3: Multiple Hypothesis Testing and CRISPR"
   ]
  },
  {
   "cell_type": "markdown",
   "metadata": {},
   "source": [
    "\n",
    "   <div class=\"alert alert-block alert-danger\">\n",
    "    <center>Due: <b>Monday 21 March, 8:59pm</b>.</center> \n",
    "   </div>\n",
    "   \n",
    "   <div class=\"alert alert-block alert-warning\">\n",
    "   <center>\n",
    "       <b>Collaboration and Resource Policy</b>\n",
    "    </center>\n",
    "    For this assignment, you are encouraged to work with one other person. \n",
    "    \n",
    "We expect most students will have the best learning experience on this assignment by working with a partner, but if you prefer to work alone it is okay to do this assignment on your own. Your partner can be anyone you mutually choose, so long as you are able to work together well.\n",
    "    \n",
    "You are permitted (actually <i>encouraged</i>) to discuss these problems with anyone you want, including other students in the class. If you do discuss the specific questions in the assignment with anyone other than your assignment partner and the course staff, though, you should list them in the _External resources used_ section below.\n",
    "    \n",
    "You are welcome to use any resources you want for this assignment, other than ones that would defeat the purpose of the assignment. This means you should not look at answers or code from any other students in the class (other than your collaboration with your partner), and if you find code that implements the exact problem you are being asked to do for the assignment, you should not use that code. Since parts of this assignment are adapted from an NCSU assignment, you should also not search for or use any answers you might find for that specific assignment. You should document all external resources you use that are not part of the course materials in the _External resources used_ section below.\n",
    "    </div>"
   ]
  },
  {
   "cell_type": "markdown",
   "metadata": {},
   "source": [
    "**Team submitting this assignment:**  \n",
    "<div class=\"alert alert-success\">\n",
    "    <b><em>List each member of your team here, including both your name and UVA computing id</em></b>\n",
    "</div>\n",
    "\n",
    "**External resources used:** \n",
    "<div class=\"alert alert-success\">\n",
    "<em>It is not necessary to list the course materials, but if you used any other resources, including discussing problems with students not on your team, list them here.</em>\n",
    "</div>"
   ]
  },
  {
   "cell_type": "markdown",
   "metadata": {},
   "source": [
    " <div class=\"alert alert-block alert-warning\">\n",
    "    \n",
    "<b>Submission</b>: You should work on this assignment by following the directions provided at https://computingbiology.github.io/project3. Add the other teammate to as a collaborator with write access (also under the Settings tab) to this repository.\n",
    "    \n",
    "You should answer the questions and write your code in this Jupyter Notebook. (It is find if you prefer to organize your work some other way, but if you do, make sure your answers are clear and complete in the document you submit.) Parts where you are expected to provide an answer (which could be text that can be written in markdown format in the notebook or Python code that runs in the notebook) are marked in green.\n",
    "        \n",
    "When you are ready to submit the assignment, you should **print your notebook as a PDF file** (unlike previous projects, you do not need to submit your repository or source notebook). You should check that the printed PDF does contain all your answers and that they are readable in it. Then, send a message in slack to a channel that includes both team members (so the one sending this message should include the other team member) and all of the course staff (`dave`, `Hyun Jae Cho`, and `Anshuman Suri`) and attach the printed PDF to that message.\n",
    "    </div>"
   ]
  },
  {
   "cell_type": "markdown",
   "metadata": {},
   "source": [
    "## Getting Started"
   ]
  },
  {
   "cell_type": "markdown",
   "metadata": {},
   "source": [
    "For the second part of the project, you will need to install [SnapGene](https://www.snapgene.com/snapgene-viewer/). You do need to provide an email address to obtain a registration code to be able to use a free trial version, which will work for a month, which is more than sufficient for the current project. (Note that it is not necessary to provide a real email address for this, you can get the registration code from the web form and do not need to receive an email from them.)\n",
    "\n",
    "Their website has OS-specific instructions for installing the software."
   ]
  },
  {
   "cell_type": "code",
   "execution_count": 1,
   "metadata": {},
   "outputs": [],
   "source": [
    "import numpy as np\n",
    "from scipy import stats\n",
    "import utils\n",
    "import matplotlib.pyplot as plt"
   ]
  },
  {
   "cell_type": "markdown",
   "metadata": {},
   "source": [
    "# Part 1: Multiple Hypotheses Testing"
   ]
  },
  {
   "cell_type": "markdown",
   "metadata": {},
   "source": [
    "These questions are about understanding how we learn correlations between genotypes and phonotypes, as discussed in [Class 10](https://computingbiology.github.io/class10/)."
   ]
  },
  {
   "cell_type": "markdown",
   "metadata": {},
   "source": [
    "<div class=\"alert alert-success\">\n",
    "\n",
    "**Problem 1 (a). Family-Wise Error Rate (FWER).** We are interested in finding out if a set of genes in the genome are differentially expressed between two populations with significance level of $\\alpha$ = 0.05. We are running $N=10000$ hypotheses simultaneously, one for each gene of interest. What is the probability that by chance (when none of the genes are actually correlated with the phenotype) that at least one of the hypotheses rejects the null hypothesis of no differential expression? \n",
    "\n",
    "</div>\n"
   ]
  },
  {
   "cell_type": "markdown",
   "metadata": {},
   "source": [
    "_Type your answer here_"
   ]
  },
  {
   "cell_type": "markdown",
   "metadata": {},
   "source": [
    "<div class=\"alert alert-success\">\n",
    "    \n",
    "**Bonferroni correction.**\n",
    "    \n",
    "**Problem 1 (b).** The more hypothesis tests are made simultaneously, the more likely at least one will be erroneously considered. This is commonly referred to as the multiple comparisons (hypotheses testing) problem. As discussed in class, a simple method to mitigate the problem is the Bonferroni correction. By running the Bonferroni correction, at what p-value cutoff would a null hypothesis be rejected when there are $N = 10,000$ hypotheses? \n",
    "    \n",
    "**Problem 1 (c).** Based on the $p$-value cutoff you determine for (b), what is the probability that by chance at least one of the hypotheses rejects the null hypothesis of no differential expression?\n",
    "\n",
    "</div>\n"
   ]
  },
  {
   "cell_type": "markdown",
   "metadata": {},
   "source": [
    "_Type your answer here_"
   ]
  },
  {
   "cell_type": "markdown",
   "metadata": {},
   "source": [
    "**False Discovery Rate (FDR)** The Bonferroni correction assumes that all the hypotheses are independent of each other. However, we know that gene expressions are not always independent. With a large number of positively correlated hypotheses, the Bonferroni correction can be too conservative, leading to a high rate of false negatives, as you may have noticed when calculating the $p$-value cutoff above. This is especially true in the case of genomics, as preventing any single false positive may be too strict for genomewide studies.\n",
    "\n",
    "    \n",
    "One approach to conceptualize the rate of false discovery rate in multiple hypotheses testing is the False Discovery Rate (FDR), which is a more widely used metric of hypothesis testing in genomics. Briefly refer to the Definitions section in <a href=\"https://en.wikipedia.org/wiki/False_discovery_rate#:~:text=are%20independent.%5B10%5D-,Definitions,-%5Bedit%5D\">False Discovery Rate</a> to learn about the possible outcomes when testing multiple null hypotheses. The FDR value is calculated by $\\frac{V}{V+S}$, where V is the number of false positives (type I error) and S is the number of true positives.\n",
    "\n",
    "During our experiment, we find that only some of the genes are differentially expressed between the two populations. The measurements for the differential expressiveness of these genes will come from two different distributions (indicating the difference in the expressiveness for each population) and those of the non-differentially expressed genes will come from one (indicating no difference between the populations). \n",
    "\n",
    "Below, we have provided code for creating and sampling from three different normal distributions."
   ]
  },
  {
   "cell_type": "code",
   "execution_count": 2,
   "metadata": {},
   "outputs": [],
   "source": [
    "def create_normal(mean, std, size):\n",
    "    return np.random.normal(mean, std, size)\n",
    "\n",
    "s1 = np.random.normal(0.0, 1.0, 10000) # distribution for the non-differentially expressed genes\n",
    "s2 = np.random.normal(1.0, 1.0, 10000) # distribution 1 for the differentially expressed genes\n",
    "s3 = np.random.normal(2.0, 1.0, 10000) # distribution 2 for the differentially expressed genes"
   ]
  },
  {
   "cell_type": "code",
   "execution_count": 3,
   "metadata": {},
   "outputs": [],
   "source": [
    "def pvals_from_dists(dist1, dist2, num_samples, num_iters):\n",
    "    p_vals = []\n",
    "    for i in range(num_iters):\n",
    "        samples1 = np.random.choice(dist1, size=num_samples, replace=False)\n",
    "        samples2 = np.random.choice(dist2, size=num_samples, replace=False)\n",
    "        _, p = stats.ttest_ind(samples1, samples2)\n",
    "        p_vals.append(p)\n",
    "    return p_vals\n",
    "p_vals1 = pvals_from_dists(s1, s1, 10, 1000) # p-values from samples from s1\n",
    "p_vals2 = pvals_from_dists(s2, s3, 10, 1000) # p-values from samples from s2 and s3"
   ]
  },
  {
   "cell_type": "code",
   "execution_count": 4,
   "metadata": {},
   "outputs": [
    {
     "data": {
      "text/plain": [
       "(1000, 1000)"
      ]
     },
     "execution_count": 4,
     "metadata": {},
     "output_type": "execute_result"
    }
   ],
   "source": [
    "len(p_vals1), len(p_vals2)"
   ]
  },
  {
   "cell_type": "markdown",
   "metadata": {},
   "source": [
    "<div class=\"alert alert-success\">\n",
    "\n",
    "**Problem 2 (a).** How many $p$-values are below 0.05 from `p_vals1` and `p_vals2`?\n",
    "</div>\n"
   ]
  },
  {
   "cell_type": "code",
   "execution_count": null,
   "metadata": {},
   "outputs": [],
   "source": []
  },
  {
   "cell_type": "markdown",
   "metadata": {},
   "source": [
    "_Type your answer here_"
   ]
  },
  {
   "cell_type": "markdown",
   "metadata": {},
   "source": [
    "The provided code below plots histographs for the different distributions an $p$-values."
   ]
  },
  {
   "cell_type": "code",
   "execution_count": 5,
   "metadata": {},
   "outputs": [
    {
     "data": {
      "image/png": "[encoded data removed]",
      "text/plain": [
       "<Figure size 1080x360 with 3 Axes>"
      ]
     },
     "metadata": {
      "needs_background": "light"
     },
     "output_type": "display_data"
    }
   ],
   "source": [
    "num_bins = 30\n",
    "\n",
    "fig, (ax1, ax2, ax3) = plt.subplots(1, 3)\n",
    "fig.set_figheight(5)\n",
    "fig.set_figwidth(15)\n",
    "\n",
    "ax1.hist(s1, num_bins, density=True)\n",
    "ax1.set_title('s1 - non-differentially expressed')\n",
    "ax2.hist(s2, num_bins, density=True)\n",
    "ax2.set_title(\"s2 - differentially expressed\")\n",
    "ax3.hist(s3, num_bins, density=True)\n",
    "ax3.set_title(\"s3 - differentially expressed\")\n",
    "plt.show()"
   ]
  },
  {
   "cell_type": "code",
   "execution_count": 6,
   "metadata": {},
   "outputs": [
    {
     "data": {
      "image/png": "[encoded data removed]",
      "text/plain": [
       "<Figure size 1080x360 with 2 Axes>"
      ]
     },
     "metadata": {
      "needs_background": "light"
     },
     "output_type": "display_data"
    }
   ],
   "source": [
    "fig, (ax1, ax2) = plt.subplots(1, 2)\n",
    "fig.set_figheight(5)\n",
    "fig.set_figwidth(15)\n",
    "pvals_counts1, bins1, _ = ax1.hist(p_vals1, num_bins)\n",
    "ax1.set_title('p-vals from samples from s1')\n",
    "pvals_counts2, bins2, _ = ax2.hist(p_vals2, num_bins)\n",
    "ax2.set_title(\"p-vals from samples from s2\")\n",
    "plt.show()"
   ]
  },
  {
   "cell_type": "markdown",
   "metadata": {},
   "source": [
    "<div class=\"alert alert-success\">\n",
    "\n",
    "**Problem 2 (b).** Explain why the histogram on the right is significantly skewed to the left.\n",
    "</div>"
   ]
  },
  {
   "cell_type": "markdown",
   "metadata": {},
   "source": [
    "_Type your answer here_"
   ]
  },
  {
   "cell_type": "markdown",
   "metadata": {},
   "source": [
    "<div class=\"alert alert-success\">\n",
    "    \n",
    "**Problem 2 (c).** The histogram (plotted below) of all of the genes is the sum of the hisgrams of the differentially expressed genes and the non-differentially expressed genes. Calculate the FDR value with $\\alpha=0.05$. \n",
    "</div>"
   ]
  },
  {
   "cell_type": "code",
   "execution_count": 7,
   "metadata": {},
   "outputs": [
    {
     "data": {
      "image/png": "[encoded data removed]",
      "text/plain": [
       "<Figure size 1080x360 with 1 Axes>"
      ]
     },
     "metadata": {
      "needs_background": "light"
     },
     "output_type": "display_data"
    }
   ],
   "source": [
    "fig, ax1 = plt.subplots(1, 1)\n",
    "fig.set_figheight(5)\n",
    "fig.set_figwidth(15)\n",
    "\n",
    "pvals_counts, bins, _  = plt.hist((p_vals1+p_vals2), num_bins)\n",
    "plt.title(\"Sum of the two histograms.\")\n",
    "plt.show()"
   ]
  },
  {
   "cell_type": "code",
   "execution_count": null,
   "metadata": {},
   "outputs": [],
   "source": []
  },
  {
   "cell_type": "markdown",
   "metadata": {},
   "source": [
    "_Type your answer here_"
   ]
  },
  {
   "cell_type": "markdown",
   "metadata": {},
   "source": [
    "# Part 2: Gene Editing with CRISPR"
   ]
  },
  {
   "cell_type": "markdown",
   "metadata": {},
   "source": [
    "This part of the assignment is heavily based on [https://qubeshub.org/community/groups/coursesource/publications?id=2701&v=1](https://qubeshub.org/community/groups/coursesource/publications?id=2701&v=1), and has been adapted to fit into our Notebook format of Projects. That assignment was developed by Leigh Ann Samsa, Linnea Andersen, Adam Groth, and Carlos Goller at North Carolina State University, and genorously shared under an open license which enables this adaptation. \n",
    "\n",
    "For this part, you will first implement your own algorithm that can infers Cas-specific spacer sequence length and Cas-specific PAM sequence, and finds potential target sites by comparing 20 nt sequences upstream of NGG PAMs to the rest of the genome. Unlike previous assignments in this class, you will be primarily using available tools (including the SnapGene tool you downloaded) and the [CRISPOR](http://crispor.tefor.net/) web-based tool) rather than implementing your own algorithms.\n",
    "\n",
    "[CRISPOR](http://crispor.tefor.net/) is a tool for designing a guideRNA (gRNA) for CRISPR. The source code for CRISPOR is available at https://github.com/maximilianh/crisporWebsite (but you are only expected to use the web interface for this assignment)."
   ]
  },
  {
   "cell_type": "markdown",
   "metadata": {},
   "source": [
    "<b>Approach:</b>  One of the applications of tools like CRISPOR is to use a gRNA to guide a Cas9 to a target site and provide a piece of donor DNA for Homology Directed Repair (HDR). The donor DNA is almost identical to the genomic sequence surrounding the target site with two exceptions (1) a silent mutation is introduced into the PAM so that the encoded amino acid coded is the same but the DNA it is not cleaved and (2) the donor DNA contains the DNA change you want to make in the genome. Note that it is not always possible to generate a silent mutation in the PAM sequence. Though HDR is not as efficient as Non-Homologous End Joining (NHEJ), with this approach you can make precise edits to the genome. Notably, this approach is not restricted to small changes - modifications of this approach can be used to knock in thousands of bases."
   ]
  },
  {
   "cell_type": "markdown",
   "metadata": {},
   "source": [
    "<b>Scenario</b>: Progeria (also known as Hutchinson-Gilford syndrome) is a rare (about 1 in 4,000,000) genetic disease of childhood characterized by dramatic, premature aging. As newborns, children with progeria usually appear normal. However, within a year, their growth rate slows, and they soon are much shorter and weigh much less than others their age. While possessing normal intelligence, affected children develop a distinctive appearance characterized by baldness, aged-looking skin, a pinched nose, and a small face and jaw relative to head size. They also often suffer from symptoms typically seen in much older people. Death occurs on average at age 13, usually from heart attack or stroke. ([NIH Genetic and Rare Disease Information Center](https://rarediseases.info.nih.gov/diseases/7467/disease) has more information on the disease.)"
   ]
  },
  {
   "cell_type": "markdown",
   "metadata": {},
   "source": [
    "<b>Experimental design</b>: Progeria is caused by a single point mutation in the lamin A gene (LMNA). This single-base substitution, G608G (GGC > GGT) within exon 11 is responsible for this autosomal dominant disease by activating a cryptic splice site, resulting in production of a protein product that deletes 50 amino acids near the carboxy terminus. (Source: [Eriksson et al. DOI: 10.1038/nature01629](https://www.nature.com/articles/nature01629)). \n",
    "\n",
    "First, you will understand how this single base substitution is sufficient to cause cellular indications of the disease. To do this, you have a human fibroblast cell line with the “wild type” GGC genotype in exon 11. You want to use HDR to replace the C with a T, and then compare the phenotype of the two genotypes on otherwise identical genetic backgrounds. Design a gRNA to use in combination with the SpCas9 of the G608 in exon 11 of human LMNA."
   ]
  },
  {
   "cell_type": "markdown",
   "metadata": {},
   "source": [
    "## Analyzing the Gene"
   ]
  },
  {
   "cell_type": "markdown",
   "metadata": {},
   "source": [
    "### Locating the Gene\n",
    "\n",
    "1. Access the NCBI website ([http://www.ncbi.nlm.nih.gov](https://www.ncbi.nlm.nih.gov/)) and select “gene” from the drop-down menu that currently displays “All databases”.\n",
    "2. Type the gene name (`LMNA`) into the search bar, and click on the gene corresponding to the correct species. This will take you to a webpage laying out known information about the gene. Halfway down the page is a viewer looking at the gene. We are going to use SnapGene to recreate and annotate parts of this viewer.\n",
    "\n",
    "In the “Genomic Context” heading, you should find the accession number and location range for the gene. Accession numbers are just unique, standardized identifiers for identifying information in the NCBI database. The `NC_` prefix means it is a reference assembly for a complete genomic molecule (see [GenBank Accessions](https://community.gep.wustl.edu/repository/course_materials_WU/annotation/Genbank_Accessions.pdf) for details on what the different prefixes mean). You should see the accession number `NC_000001.11` for the gene you located by following the two steps above, which identifies the first chromosome for homo sapiens (from a patched version of the GRCh38 human genome assembly). You can also find the locations where the LMNA gene occurs, which will be useful for finding it in SnapGene.\n",
    " "
   ]
  },
  {
   "cell_type": "markdown",
   "metadata": {},
   "source": [
    "### Identifying relevant regions\n",
    "\n",
    "1. Open SnapGene.\n",
    "2. File -> Import -> NCBI Sequence\n",
    "3. Enter your gene accession number and click Import. Note that this step can take quite a while- the final file is ~1GB, and the in-built downloader is not particularly fast. It took around 5-6 minutes on our machines (and SnapGene appears to hang while it is downloading - just be patient...)\n",
    "4. Save the file."
   ]
  },
  {
   "cell_type": "markdown",
   "metadata": {},
   "source": [
    "<div class=\"alert alert-warning\">\n",
    "    <b>Hint:</b> You can view specific Features by clicking on the 'Features' tab at the bottom of SnapGene. Remember that we want to focus on Exon 11 of LMNA Isoform A. As a sanity check, you can confirm that G608 indeed has gcc. Your 'Sequence' (after you find the correct Exon) should look something like this (assuming you chose to color the selected feature as red):\n",
    "</div>"
   ]
  },
  {
   "attachments": {
    "image.png": {
     "image/png": "[encoded data removed]"
    }
   },
   "cell_type": "markdown",
   "metadata": {},
   "source": [
    "![image.png](attachment:image.png)"
   ]
  },
  {
   "cell_type": "markdown",
   "metadata": {},
   "source": [
    "Now that we have found the desired mutation, we need to pick a target sequence to use for designing our gRNA. It should not be too short (e.g. not just GCC, since that could easily be repeated elsewhere) and not too long."
   ]
  },
  {
   "cell_type": "markdown",
   "metadata": {},
   "source": [
    "<div class=\"alert alert-success\">\n",
    "\n",
    "**Problem 3.** In SnapGene’s sequence view (select using the View menu) find the exon containing LMNA (if you select Zoom Controls in the View menu, you will be able to enter the location of the LMNA gene there). Copy the target sequence (top strand of bases) that you have chosen to target (from this exon) and paste it below.\n",
    "\n",
    "</div>"
   ]
  },
  {
   "cell_type": "markdown",
   "metadata": {},
   "source": [
    "<div class=\"alert alert-warning\">\n",
    "    <b>Hint:</b> You can help the given function to make sure that you pick the right sequence. It should be 102bp long and start with CGCACC. There is only one such sequence within the exon that satisfied both these conditions. Example usage is given below. Note that the output of this function being 'True' does not necessarily mean that you have picked the right sequence, but it is intented to be a helpful check so you know you are on the right track.</div>"
   ]
  },
  {
   "cell_type": "code",
   "execution_count": 8,
   "metadata": {},
   "outputs": [
    {
     "name": "stdout",
     "output_type": "stream",
     "text": [
      "Incorrect length\n"
     ]
    },
    {
     "data": {
      "text/plain": [
       "False"
      ]
     },
     "execution_count": 8,
     "metadata": {},
     "output_type": "execute_result"
    }
   ],
   "source": [
    "# Example - this is not the actual sequence\n",
    "utils.check_if_desired_seq(\"cgcgtgcgggacctgcgggcagcctgccgacaaggcatctgcc\")"
   ]
  },
  {
   "cell_type": "markdown",
   "metadata": {},
   "source": [
    "_Type your answer here_"
   ]
  },
  {
   "cell_type": "markdown",
   "metadata": {},
   "source": [
    "## Using CRISPOR to design gRNA"
   ]
  },
  {
   "cell_type": "markdown",
   "metadata": {},
   "source": [
    "1. Open [CRISPOR](http://crispor.tefor.net/).\n",
    "1. Paste your target range into the `Step 1` box.\n",
    "3. Select the appropriate genome in the `Step 2` drop down menu. If there are multiple genome assemblies that match our study, select one and include a justification for your selection.\n",
    "4. Select the appropriate Cas PAM from the `Step 3` drop down menu.\n",
    "5. Click submit"
   ]
  },
  {
   "cell_type": "markdown",
   "metadata": {},
   "source": [
    "<div class=\"alert alert-success\">\n",
    "    \n",
    "**Problem 4.** What did you use for the genome (Step 2 above) and the PAM (Step 3)?\n",
    "    </div>"
   ]
  },
  {
   "cell_type": "markdown",
   "metadata": {},
   "source": [
    "_Type your answer here_"
   ]
  },
  {
   "cell_type": "markdown",
   "metadata": {},
   "source": [
    "## Analyzing the CRISPOR Readout"
   ]
  },
  {
   "cell_type": "markdown",
   "metadata": {},
   "source": [
    "<div class=\"alert alert-success\">\n",
    "\n",
    "**Problem 5 (a).** How long is your sequence?\n",
    "\n",
    "</div>"
   ]
  },
  {
   "cell_type": "markdown",
   "metadata": {},
   "source": [
    "_Type your answer here_"
   ]
  },
  {
   "cell_type": "markdown",
   "metadata": {},
   "source": [
    "<div class=\"alert alert-success\">\n",
    "\n",
    "**Problem 5 (b).** How many possible guides are in your sequence?\n",
    "\n",
    "</div>"
   ]
  },
  {
   "cell_type": "markdown",
   "metadata": {},
   "source": [
    "_Type your answer here_"
   ]
  },
  {
   "cell_type": "markdown",
   "metadata": {},
   "source": [
    "<div class=\"alert alert-success\">\n",
    "\n",
    "**Problem 5 (c).** Are there any regions of your sequence that are particularly rich or poor in possible guide sites?\n",
    "\n",
    "</div>"
   ]
  },
  {
   "cell_type": "markdown",
   "metadata": {},
   "source": [
    "_Type your answer here_"
   ]
  },
  {
   "cell_type": "markdown",
   "metadata": {},
   "source": [
    "## Analyzing the gRNA"
   ]
  },
  {
   "cell_type": "markdown",
   "metadata": {},
   "source": [
    "<div class=\"alert alert-success\">\n",
    "\n",
    "**Problem 6 (a).** What is gRNA specificity? What is the range of MIT Specificity Scores? What does a high score mean?  \n",
    "\n",
    "</div>"
   ]
  },
  {
   "cell_type": "markdown",
   "metadata": {},
   "source": [
    "_Type your answer here_"
   ]
  },
  {
   "cell_type": "markdown",
   "metadata": {},
   "source": [
    "<div class=\"alert alert-success\">\n",
    "\n",
    "**Problem 6 (b).** What is gRNA efficiency? What is the range of Doench’16 Efficiency Scores? What does a high score mean?\n",
    "\n",
    "</div>"
   ]
  },
  {
   "cell_type": "markdown",
   "metadata": {},
   "source": [
    "_Type your answer here_"
   ]
  },
  {
   "cell_type": "markdown",
   "metadata": {},
   "source": [
    "<div class=\"alert alert-success\">\n",
    "\n",
    "**Problem 6 (c).** What is a gRNA outcome prediction? What is the range of outcomes (labeled as `Out-of-Frame`)? What does a high score mean?\n",
    "\n",
    "</div>"
   ]
  },
  {
   "cell_type": "markdown",
   "metadata": {},
   "source": [
    "_Type your answer here_"
   ]
  },
  {
   "cell_type": "markdown",
   "metadata": {},
   "source": [
    "## Selecting a Target Site"
   ]
  },
  {
   "cell_type": "markdown",
   "metadata": {},
   "source": [
    "For all of the answers below, remember that the focus of the experiment is to be able to modify the G608 nucleotide. Thus, we would want to find a target sequence such that G608 is included in it.\n",
    "\n",
    "<div class=\"alert alert-warning\">\n",
    "    <b>Hint:</b> You should not see more than 3 high-specifity candidates that satisfy this requirement.\n",
    "</div>"
   ]
  },
  {
   "cell_type": "markdown",
   "metadata": {},
   "source": [
    "<div class=\"alert alert-success\">\n",
    "\n",
    "**Problem 7 (a).** What are off-target 0-1-2-3-4 mismatches? How are the mismatches shown in black different from the mismatches shown in gray?\n",
    "\n",
    "</div>"
   ]
  },
  {
   "cell_type": "markdown",
   "metadata": {},
   "source": [
    "_Type your answer here_"
   ]
  },
  {
   "cell_type": "markdown",
   "metadata": {},
   "source": [
    "<div class=\"alert alert-success\">\n",
    "\n",
    "**Problem 7 (b).** Rank the top 3 matches according to specificity, along with their scores.\n",
    "\n",
    "</div>"
   ]
  },
  {
   "cell_type": "markdown",
   "metadata": {},
   "source": [
    "_Type your answer here_"
   ]
  },
  {
   "cell_type": "markdown",
   "metadata": {},
   "source": [
    "<div class=\"alert alert-success\">\n",
    "\n",
    "**Problem 7 (c).** Rank the top 3 matches according to efficiency (and specify which score you used), along with their scores.\n",
    "\n",
    "</div>"
   ]
  },
  {
   "cell_type": "markdown",
   "metadata": {},
   "source": [
    "_Type your answer here_"
   ]
  },
  {
   "cell_type": "markdown",
   "metadata": {},
   "source": [
    "<div class=\"alert alert-success\">\n",
    "\n",
    "**Problem 7 (d).** Rank the top 3 matches according to outcome (and specify which score you used), along with their scores.\n",
    "\n",
    "</div>"
   ]
  },
  {
   "cell_type": "markdown",
   "metadata": {},
   "source": [
    "_Type your answer here_"
   ]
  },
  {
   "cell_type": "markdown",
   "metadata": {},
   "source": [
    "<div class=\"alert alert-success\">\n",
    "\n",
    "**Problem 7 (e).** Rank the top 3 matches according to off-target effects\n",
    "\n",
    "</div>"
   ]
  },
  {
   "cell_type": "markdown",
   "metadata": {},
   "source": [
    "_Type your answer here_"
   ]
  },
  {
   "cell_type": "markdown",
   "metadata": {},
   "source": [
    "<div class=\"alert alert-success\">\n",
    "\n",
    "**Problem 7 (f).** Based on these results and your findings, select the \"best\" guide, and explain why you choose the one you do. Mention the selected target sequence (DNA) and the spacer sequence (RNA) separately.\n",
    "\n",
    "</div>"
   ]
  },
  {
   "cell_type": "markdown",
   "metadata": {},
   "source": [
    "_Type your answer here_"
   ]
  },
  {
   "cell_type": "markdown",
   "metadata": {},
   "source": [
    "## Anticipated Off-Target Effects"
   ]
  },
  {
   "cell_type": "markdown",
   "metadata": {},
   "source": [
    "1. Locate your selected guide in CRISPOR\n",
    "2. For each of the 1, 2, and 3 mismatch targets, record the genomic location of the anticipated off-target cut. (If your guide only has 4-mismatch targets, do this for one of them)."
   ]
  },
  {
   "cell_type": "markdown",
   "metadata": {},
   "source": [
    "<div class=\"alert alert-success\">\n",
    "\n",
    "**Problem 8** Go to the NCBI genome browser for your organism, enter the genome location, and describe its location. Is it in an intergenic region, promoter, intron, an exon etc...? Repeat this for 1 mismatch per n-target mismatches. \n",
    "    \n",
    "<b>Optional Bonus Question:</b> Do you see any interesting studies related to these targets? Can you understand anything useful from them?\n",
    "\n",
    "</div>"
   ]
  },
  {
   "cell_type": "markdown",
   "metadata": {},
   "source": [
    "_Type your answer here_"
   ]
  },
  {
   "cell_type": "markdown",
   "metadata": {},
   "source": [
    "## Annotate the gRNAs on your SnapGene file"
   ]
  },
  {
   "cell_type": "markdown",
   "metadata": {},
   "source": [
    "First, let's download the annotated features:\n",
    "\n",
    "1. Click “Download for SnapGene” in the sequence box. \n",
    "2. Open the downloaded file in SnapGene and transfer the annotated features to your gene file. The file contains your target range with all the possible spacer sequences as annotated features. Each feature is already marked on the correct strand and includes information about the specificity and index scores. It does <b>NOT</b> label the PAM sequence.\n",
    "3. In your saved gene file (from step 2) click Feature -> Import feature -> Import feature from a SnapGene File then select the open file from the dropdown menu.\n",
    "4. SnapGene - Click OK then “Add Features”. This may take a while."
   ]
  },
  {
   "cell_type": "markdown",
   "metadata": {},
   "source": [
    "Your screen should look something like this (note that this is an example- the exact target sequences may not be the same). The <i>ggc</i> in pink here is the mutation we care about."
   ]
  },
  {
   "attachments": {
    "image.png": {
     "image/png": "[encoded data removed]"
    }
   },
   "cell_type": "markdown",
   "metadata": {},
   "source": [
    "![image.png](attachment:image.png)"
   ]
  },
  {
   "cell_type": "markdown",
   "metadata": {},
   "source": [
    "Now that we have downloaded and added all features, let's identify the guide sequence we shortlisted above and find its corresponding PAM sequence:\n",
    "\n",
    "1. Now your gene is annotated with all the possible guide sequences.\n",
    "2. Annotate the “best” target sequence that you selected \n",
    "3. Locate and double click on the feature containing your selected sequence and set it color to pink (or some other color that is not already present)\n",
    "4. Locate the PAM sequence associated with your selected guide. Add it as a new feature labeled “PAM” (Highlight the bases then Feature -> Add Feature).  "
   ]
  },
  {
   "cell_type": "markdown",
   "metadata": {},
   "source": [
    "Here's an example of what you should be seeing when you're done with all your steps (Instead of 'Example', you will see identifiers for the target sequences)."
   ]
  },
  {
   "attachments": {
    "image.png": {
     "image/png": "[encoded data removed]"
    }
   },
   "cell_type": "markdown",
   "metadata": {},
   "source": [
    "![image.png](attachment:image.png)"
   ]
  },
  {
   "cell_type": "markdown",
   "metadata": {},
   "source": [
    "<div class=\"alert alert-success\">\n",
    "\n",
    "**Problem 9** Add a screenshot below of the sequence that shows the exon along with the selected guide sequence and PAM annoteted. Save your file and include it in your project submission.\n",
    "\n",
    "</div>"
   ]
  },
  {
   "cell_type": "markdown",
   "metadata": {},
   "source": [
    "_Type your answer here_"
   ]
  },
  {
   "cell_type": "markdown",
   "metadata": {},
   "source": [
    "## Picking the \"best\" guide sequence"
   ]
  },
  {
   "cell_type": "markdown",
   "metadata": {},
   "source": [
    "<div class=\"alert alert-success\">\n",
    "\n",
    "**Problem 10 (a).** Look back to **Problem 7 (f)**, which asked you to pick the \"best\" guide sequence. Let's say the disease were something critically life-threatening that *had* to be treated and this CRISPR edit is the only option. For the same given sequence, would your \"best\" guide sequence be any different? Explain why. If not, specify which one you would have picked.\n",
    "\n",
    "</div>"
   ]
  },
  {
   "cell_type": "markdown",
   "metadata": {},
   "source": [
    "_Type your answer here_"
   ]
  },
  {
   "cell_type": "markdown",
   "metadata": {},
   "source": [
    "<div class=\"alert alert-success\">\n",
    "\n",
    "**Problem 10 (b).** What if it were a a mild condition that posed no serious threat (which is not the case for Progeria, which nearly always results in an early death), but reduced the patient's quality of life. For instance, chronic allergic reactions that lead to mild rashes on a small patch of skin. Would your \"best\" guide sequence be any different? Explain why. If not, specify which one you would have picked.\n",
    "\n",
    "</div>"
   ]
  },
  {
   "cell_type": "markdown",
   "metadata": {},
   "source": [
    "_Type your answer here_"
   ]
  },
  {
   "cell_type": "markdown",
   "metadata": {},
   "source": [
    "**End of Project 3!** (Remember to submit your answers as a PDF, as described above.)"
   ]
  }
 ],
 "metadata": {
  "kernelspec": {
   "display_name": "Python 3",
   "language": "python",
   "name": "python3"
  },
  "language_info": {
   "codemirror_mode": {
    "name": "ipython",
    "version": 3
   },
   "file_extension": ".py",
   "mimetype": "text/x-python",
   "name": "python",
   "nbconvert_exporter": "python",
   "pygments_lexer": "ipython3",
   "version": "3.7.3"
  }
 },
 "nbformat": 4,
 "nbformat_minor": 5
}
